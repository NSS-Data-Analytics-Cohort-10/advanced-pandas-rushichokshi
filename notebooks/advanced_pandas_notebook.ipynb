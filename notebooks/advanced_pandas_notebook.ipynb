{
 "cells": [
  {
   "cell_type": "markdown",
   "metadata": {},
   "source": [
    "# Advanced pandas Practice - Nashville City Cemetery\n",
    "\n",
    "In this exercise, you'll get to explore some additional features of the pandas library for cleaning and summarizing data. This will be done using the Nashville City Cemetery data.\n",
    "\n",
    "As a reminder, you can get more information about the data that you were working with here: [Nashville City Cemetery Metadata](https://data.nashville.gov/api/views/diwx-fgj7/files/963c111e-2e2a-4133-a807-2becd590feb2?download=true&filename=Historic-Nashville-City-Cemetery-Interments-1846-1979-Metadata-v2.pdf)."
   ]
  },
  {
   "cell_type": "markdown",
   "metadata": {},
   "source": [
    "1. Read the City Cemetery data into a pandas DataFrame. **Hint:** see the [`read_excel` function](https://pandas.pydata.org/docs/reference/api/pandas.read_excel.html)."
   ]
  },
  {
   "cell_type": "code",
   "execution_count": 1,
   "metadata": {},
   "outputs": [],
   "source": [
    "import pandas as pd\n",
    "import matplotlib.pyplot as plt\n",
    "import seaborn as sns"
   ]
  },
  {
   "cell_type": "code",
   "execution_count": 2,
   "metadata": {},
   "outputs": [],
   "source": [
    "cemetery = pd.read_excel('/Users/rushichokshi/Documents/nss_da10/projects/advanced-pandas-rushichokshi/data/Historic_Nashville_City_Cemetery_Interments__1846-1979.xlsx')\n",
    "#/Users/rushichokshi/Documents/nss_da10/projects/advanced-pandas-rushichokshi/data/Historic_Nashville_City_Cemetery_Interments__1846-1979.xlsx"
   ]
  },
  {
   "cell_type": "markdown",
   "metadata": {},
   "source": [
    "2. **Most Common Causes of Death.**  \n",
    "   a. Find the 10 most common (known) recorded causes of death.  \n",
    "   b. Clean up some of the misspellings. Use the [`replace` method](https://pandas.pydata.org/docs/reference/api/pandas.DataFrame.replace.html) to clean up some of the causes of death. For example, replace \"Cholrea\" with \"Cholera\" and \"Still Born\" with \"Stillborn\".   \n",
    "   **Bonus (Save For Last):** One method of detecting and correcting misspellings is fuzzy matching using metrics like [Levenshtein distance](https://en.wikipedia.org/wiki/Levenshtein_distance). Check out [thefuzz](https://github.com/seatgeek/thefuzz) a library that implements fuzzy matching and apply it to detect and correct misspellings.  \n",
    "   c. After correcting the spellings, find the 10 most common causes of death and create a bar chart to display your findings.  "
   ]
  },
  {
   "cell_type": "code",
   "execution_count": 3,
   "metadata": {},
   "outputs": [
    {
     "data": {
      "text/plain": [
       "Cause of Death/Burial\n",
       "Consumption      1767\n",
       "Still Born        841\n",
       "Cholrea           667\n",
       "Old Age           604\n",
       "Cholera           575\n",
       "Pneumonia         516\n",
       "Flux              469\n",
       "Complication      446\n",
       "Cold              421\n",
       "Teething          411\n",
       "Typhoid Fever     310\n",
       "Name: count, dtype: int64"
      ]
     },
     "execution_count": 3,
     "metadata": {},
     "output_type": "execute_result"
    }
   ],
   "source": [
    "#2a\n",
    "cemetery[(cemetery['Cause of Death/Burial']!='Unknown')&(cemetery['Cause of Death/Burial']!='Not Known')]['Cause of Death/Burial'].value_counts().sort_values(ascending=False).head(11)\n",
    "#I decided to show the 11 most common because cholera showed up twice as one of them is a misspelling"
   ]
  },
  {
   "cell_type": "code",
   "execution_count": 4,
   "metadata": {},
   "outputs": [
    {
     "name": "stdout",
     "output_type": "stream",
     "text": [
      "<class 'pandas.core.frame.DataFrame'>\n",
      "RangeIndex: 19745 entries, 0 to 19744\n",
      "Data columns (total 14 columns):\n",
      " #   Column                 Non-Null Count  Dtype  \n",
      "---  ------                 --------------  -----  \n",
      " 0   Volume                 19745 non-null  object \n",
      " 1   Name                   19740 non-null  object \n",
      " 2   Burial Month           19706 non-null  object \n",
      " 3   Month No.              19706 non-null  float64\n",
      " 4   Burial Day             19691 non-null  float64\n",
      " 5   Burial Year            19743 non-null  float64\n",
      " 6   Sex                    19503 non-null  object \n",
      " 7   Race                   19698 non-null  object \n",
      " 8   Age                    11071 non-null  float64\n",
      " 9   Residence              19687 non-null  object \n",
      " 10  Cause of Death/Burial  19428 non-null  object \n",
      " 11  Ave                    19092 non-null  object \n",
      " 12  Section/Lot            18625 non-null  object \n",
      " 13  Remarks                16396 non-null  object \n",
      "dtypes: float64(4), object(10)\n",
      "memory usage: 2.1+ MB\n"
     ]
    }
   ],
   "source": [
    "cemetery.info()"
   ]
  },
  {
   "cell_type": "code",
   "execution_count": 5,
   "metadata": {},
   "outputs": [
    {
     "data": {
      "text/html": [
       "<div>\n",
       "<style scoped>\n",
       "    .dataframe tbody tr th:only-of-type {\n",
       "        vertical-align: middle;\n",
       "    }\n",
       "\n",
       "    .dataframe tbody tr th {\n",
       "        vertical-align: top;\n",
       "    }\n",
       "\n",
       "    .dataframe thead th {\n",
       "        text-align: right;\n",
       "    }\n",
       "</style>\n",
       "<table border=\"1\" class=\"dataframe\">\n",
       "  <thead>\n",
       "    <tr style=\"text-align: right;\">\n",
       "      <th></th>\n",
       "      <th>Volume</th>\n",
       "      <th>Name</th>\n",
       "      <th>Burial Month</th>\n",
       "      <th>Month No.</th>\n",
       "      <th>Burial Day</th>\n",
       "      <th>Burial Year</th>\n",
       "      <th>Sex</th>\n",
       "      <th>Race</th>\n",
       "      <th>Age</th>\n",
       "      <th>Residence</th>\n",
       "      <th>Cause of Death/Burial</th>\n",
       "      <th>Ave</th>\n",
       "      <th>Section/Lot</th>\n",
       "      <th>Remarks</th>\n",
       "    </tr>\n",
       "  </thead>\n",
       "  <tbody>\n",
       "  </tbody>\n",
       "</table>\n",
       "</div>"
      ],
      "text/plain": [
       "Empty DataFrame\n",
       "Columns: [Volume, Name, Burial Month, Month No., Burial Day, Burial Year, Sex, Race, Age, Residence, Cause of Death/Burial, Ave, Section/Lot, Remarks]\n",
       "Index: []"
      ]
     },
     "execution_count": 5,
     "metadata": {},
     "output_type": "execute_result"
    }
   ],
   "source": [
    "#2b\n",
    "cemetery = cemetery.replace('Still Born','Stillborn')\n",
    "cemetery[cemetery['Cause of Death/Burial']=='Still Born']"
   ]
  },
  {
   "cell_type": "code",
   "execution_count": 6,
   "metadata": {},
   "outputs": [
    {
     "data": {
      "text/html": [
       "<div>\n",
       "<style scoped>\n",
       "    .dataframe tbody tr th:only-of-type {\n",
       "        vertical-align: middle;\n",
       "    }\n",
       "\n",
       "    .dataframe tbody tr th {\n",
       "        vertical-align: top;\n",
       "    }\n",
       "\n",
       "    .dataframe thead th {\n",
       "        text-align: right;\n",
       "    }\n",
       "</style>\n",
       "<table border=\"1\" class=\"dataframe\">\n",
       "  <thead>\n",
       "    <tr style=\"text-align: right;\">\n",
       "      <th></th>\n",
       "      <th>Volume</th>\n",
       "      <th>Name</th>\n",
       "      <th>Burial Month</th>\n",
       "      <th>Month No.</th>\n",
       "      <th>Burial Day</th>\n",
       "      <th>Burial Year</th>\n",
       "      <th>Sex</th>\n",
       "      <th>Race</th>\n",
       "      <th>Age</th>\n",
       "      <th>Residence</th>\n",
       "      <th>Cause of Death/Burial</th>\n",
       "      <th>Ave</th>\n",
       "      <th>Section/Lot</th>\n",
       "      <th>Remarks</th>\n",
       "    </tr>\n",
       "  </thead>\n",
       "  <tbody>\n",
       "  </tbody>\n",
       "</table>\n",
       "</div>"
      ],
      "text/plain": [
       "Empty DataFrame\n",
       "Columns: [Volume, Name, Burial Month, Month No., Burial Day, Burial Year, Sex, Race, Age, Residence, Cause of Death/Burial, Ave, Section/Lot, Remarks]\n",
       "Index: []"
      ]
     },
     "execution_count": 6,
     "metadata": {},
     "output_type": "execute_result"
    }
   ],
   "source": [
    "cemetery[cemetery['Cause of Death/Burial']=='Still Born']"
   ]
  },
  {
   "cell_type": "code",
   "execution_count": 7,
   "metadata": {},
   "outputs": [
    {
     "data": {
      "text/html": [
       "<div>\n",
       "<style scoped>\n",
       "    .dataframe tbody tr th:only-of-type {\n",
       "        vertical-align: middle;\n",
       "    }\n",
       "\n",
       "    .dataframe tbody tr th {\n",
       "        vertical-align: top;\n",
       "    }\n",
       "\n",
       "    .dataframe thead th {\n",
       "        text-align: right;\n",
       "    }\n",
       "</style>\n",
       "<table border=\"1\" class=\"dataframe\">\n",
       "  <thead>\n",
       "    <tr style=\"text-align: right;\">\n",
       "      <th></th>\n",
       "      <th>Volume</th>\n",
       "      <th>Name</th>\n",
       "      <th>Burial Month</th>\n",
       "      <th>Month No.</th>\n",
       "      <th>Burial Day</th>\n",
       "      <th>Burial Year</th>\n",
       "      <th>Sex</th>\n",
       "      <th>Race</th>\n",
       "      <th>Age</th>\n",
       "      <th>Residence</th>\n",
       "      <th>Cause of Death/Burial</th>\n",
       "      <th>Ave</th>\n",
       "      <th>Section/Lot</th>\n",
       "      <th>Remarks</th>\n",
       "    </tr>\n",
       "  </thead>\n",
       "  <tbody>\n",
       "  </tbody>\n",
       "</table>\n",
       "</div>"
      ],
      "text/plain": [
       "Empty DataFrame\n",
       "Columns: [Volume, Name, Burial Month, Month No., Burial Day, Burial Year, Sex, Race, Age, Residence, Cause of Death/Burial, Ave, Section/Lot, Remarks]\n",
       "Index: []"
      ]
     },
     "execution_count": 7,
     "metadata": {},
     "output_type": "execute_result"
    }
   ],
   "source": [
    "cemetery = cemetery.replace('Cholrea','Cholera')\n",
    "cemetery[cemetery['Cause of Death/Burial']=='Cholrea']"
   ]
  },
  {
   "cell_type": "code",
   "execution_count": 8,
   "metadata": {},
   "outputs": [],
   "source": [
    "cemetery = cemetery.replace('Not Known','Unknown')\n"
   ]
  },
  {
   "cell_type": "code",
   "execution_count": 9,
   "metadata": {},
   "outputs": [],
   "source": [
    "cemetery = cemetery.replace('Diarherea','Diarrhea')"
   ]
  },
  {
   "cell_type": "code",
   "execution_count": 10,
   "metadata": {},
   "outputs": [],
   "source": [
    "cemetery = cemetery.replace('Feever','Fever')"
   ]
  },
  {
   "cell_type": "markdown",
   "metadata": {},
   "source": [
    "3. Create a line chart showing the number of burials per year."
   ]
  },
  {
   "cell_type": "code",
   "execution_count": 11,
   "metadata": {},
   "outputs": [
    {
     "name": "stdout",
     "output_type": "stream",
     "text": [
      "<class 'pandas.core.frame.DataFrame'>\n",
      "RangeIndex: 19745 entries, 0 to 19744\n",
      "Data columns (total 14 columns):\n",
      " #   Column                 Non-Null Count  Dtype  \n",
      "---  ------                 --------------  -----  \n",
      " 0   Volume                 19745 non-null  object \n",
      " 1   Name                   19740 non-null  object \n",
      " 2   Burial Month           19706 non-null  object \n",
      " 3   Month No.              19706 non-null  float64\n",
      " 4   Burial Day             19691 non-null  float64\n",
      " 5   Burial Year            19743 non-null  float64\n",
      " 6   Sex                    19503 non-null  object \n",
      " 7   Race                   19698 non-null  object \n",
      " 8   Age                    11071 non-null  float64\n",
      " 9   Residence              19687 non-null  object \n",
      " 10  Cause of Death/Burial  19428 non-null  object \n",
      " 11  Ave                    19092 non-null  object \n",
      " 12  Section/Lot            18625 non-null  object \n",
      " 13  Remarks                16396 non-null  object \n",
      "dtypes: float64(4), object(10)\n",
      "memory usage: 2.1+ MB\n"
     ]
    }
   ],
   "source": [
    "cemetery.info()"
   ]
  },
  {
   "cell_type": "code",
   "execution_count": 19,
   "metadata": {},
   "outputs": [
    {
     "data": {
      "text/plain": [
       "pandas.core.series.Series"
      ]
     },
     "execution_count": 19,
     "metadata": {},
     "output_type": "execute_result"
    }
   ],
   "source": [
    "type(cemetery['Burial Year'].value_counts())"
   ]
  },
  {
   "cell_type": "code",
   "execution_count": 14,
   "metadata": {},
   "outputs": [
    {
     "data": {
      "text/plain": [
       "128"
      ]
     },
     "execution_count": 14,
     "metadata": {},
     "output_type": "execute_result"
    }
   ],
   "source": [
    "cemetery['Burial Year'].nunique()"
   ]
  },
  {
   "cell_type": "code",
   "execution_count": 17,
   "metadata": {},
   "outputs": [
    {
     "data": {
      "text/plain": [
       "(array([7.220e+02, 4.470e+02, 7.450e+02, 8.090e+02, 3.850e+02, 5.520e+02,\n",
       "        4.290e+02, 5.960e+02, 4.760e+02, 4.280e+02, 4.020e+02, 4.150e+02,\n",
       "        4.820e+02, 5.750e+02, 4.550e+02, 6.270e+02, 8.360e+02, 1.372e+03,\n",
       "        1.366e+03, 1.354e+03, 5.420e+02, 5.040e+02, 2.090e+02, 3.120e+02,\n",
       "        2.850e+02, 8.420e+02, 3.370e+02, 1.590e+02, 1.480e+02, 1.550e+02,\n",
       "        1.180e+02, 1.380e+02, 2.040e+02, 1.560e+02, 1.110e+02, 1.280e+02,\n",
       "        9.900e+01, 6.900e+01, 7.000e+01, 6.700e+01, 5.000e+01, 5.000e+01,\n",
       "        4.600e+01, 5.800e+01, 4.800e+01, 5.100e+01, 5.500e+01, 4.700e+01,\n",
       "        4.200e+01, 5.200e+01, 3.700e+01, 9.000e+01, 3.600e+01, 3.700e+01,\n",
       "        4.000e+01, 4.100e+01, 2.600e+01, 3.100e+01, 1.800e+01, 3.500e+01,\n",
       "        2.900e+01, 2.800e+01, 3.500e+01, 2.200e+01, 1.900e+01, 3.000e+01,\n",
       "        2.900e+01, 2.500e+01, 1.400e+01, 2.400e+01, 1.800e+01, 1.200e+01,\n",
       "        1.300e+01, 2.400e+01, 1.800e+01, 2.200e+01, 3.300e+01, 1.000e+01,\n",
       "        1.600e+01, 2.800e+01, 1.200e+01, 1.600e+01, 1.900e+01, 1.400e+01,\n",
       "        2.200e+01, 1.800e+01, 1.000e+01, 1.300e+01, 1.200e+01, 7.000e+00,\n",
       "        1.100e+01, 1.000e+01, 4.000e+00, 1.000e+01, 1.100e+01, 8.000e+00,\n",
       "        1.100e+01, 7.000e+00, 4.000e+00, 3.000e+00, 4.000e+00, 5.000e+00,\n",
       "        5.000e+00, 1.000e+00, 4.000e+00, 2.000e+00, 2.000e+00, 3.000e+00,\n",
       "        1.000e+00, 4.000e+00, 1.000e+00, 4.000e+00, 0.000e+00, 2.000e+00,\n",
       "        0.000e+00, 2.000e+00, 0.000e+00, 1.000e+00, 1.000e+00, 1.000e+00,\n",
       "        2.000e+00, 2.000e+00, 0.000e+00, 1.000e+00, 0.000e+00, 0.000e+00,\n",
       "        3.000e+00, 5.000e+00]),\n",
       " array([1846.       , 1847.0390625, 1848.078125 , 1849.1171875,\n",
       "        1850.15625  , 1851.1953125, 1852.234375 , 1853.2734375,\n",
       "        1854.3125   , 1855.3515625, 1856.390625 , 1857.4296875,\n",
       "        1858.46875  , 1859.5078125, 1860.546875 , 1861.5859375,\n",
       "        1862.625    , 1863.6640625, 1864.703125 , 1865.7421875,\n",
       "        1866.78125  , 1867.8203125, 1868.859375 , 1869.8984375,\n",
       "        1870.9375   , 1871.9765625, 1873.015625 , 1874.0546875,\n",
       "        1875.09375  , 1876.1328125, 1877.171875 , 1878.2109375,\n",
       "        1879.25     , 1880.2890625, 1881.328125 , 1882.3671875,\n",
       "        1883.40625  , 1884.4453125, 1885.484375 , 1886.5234375,\n",
       "        1887.5625   , 1888.6015625, 1889.640625 , 1890.6796875,\n",
       "        1891.71875  , 1892.7578125, 1893.796875 , 1894.8359375,\n",
       "        1895.875    , 1896.9140625, 1897.953125 , 1898.9921875,\n",
       "        1900.03125  , 1901.0703125, 1902.109375 , 1903.1484375,\n",
       "        1904.1875   , 1905.2265625, 1906.265625 , 1907.3046875,\n",
       "        1908.34375  , 1909.3828125, 1910.421875 , 1911.4609375,\n",
       "        1912.5      , 1913.5390625, 1914.578125 , 1915.6171875,\n",
       "        1916.65625  , 1917.6953125, 1918.734375 , 1919.7734375,\n",
       "        1920.8125   , 1921.8515625, 1922.890625 , 1923.9296875,\n",
       "        1924.96875  , 1926.0078125, 1927.046875 , 1928.0859375,\n",
       "        1929.125    , 1930.1640625, 1931.203125 , 1932.2421875,\n",
       "        1933.28125  , 1934.3203125, 1935.359375 , 1936.3984375,\n",
       "        1937.4375   , 1938.4765625, 1939.515625 , 1940.5546875,\n",
       "        1941.59375  , 1942.6328125, 1943.671875 , 1944.7109375,\n",
       "        1945.75     , 1946.7890625, 1947.828125 , 1948.8671875,\n",
       "        1949.90625  , 1950.9453125, 1951.984375 , 1953.0234375,\n",
       "        1954.0625   , 1955.1015625, 1956.140625 , 1957.1796875,\n",
       "        1958.21875  , 1959.2578125, 1960.296875 , 1961.3359375,\n",
       "        1962.375    , 1963.4140625, 1964.453125 , 1965.4921875,\n",
       "        1966.53125  , 1967.5703125, 1968.609375 , 1969.6484375,\n",
       "        1970.6875   , 1971.7265625, 1972.765625 , 1973.8046875,\n",
       "        1974.84375  , 1975.8828125, 1976.921875 , 1977.9609375,\n",
       "        1979.       ]),\n",
       " <BarContainer object of 128 artists>)"
      ]
     },
     "execution_count": 17,
     "metadata": {},
     "output_type": "execute_result"
    },
    {
     "data": {
      "image/png": "[encoded data removed]",
      "text/plain": [
       "<Figure size 640x480 with 1 Axes>"
      ]
     },
     "metadata": {},
     "output_type": "display_data"
    }
   ],
   "source": [
    "plt.hist(cemetery['Burial Year'],bins=128)"
   ]
  },
  {
   "cell_type": "code",
   "execution_count": null,
   "metadata": {},
   "outputs": [],
   "source": []
  }
 ],
 "metadata": {
  "kernelspec": {
   "display_name": "base",
   "language": "python",
   "name": "python3"
  },
  "language_info": {
   "codemirror_mode": {
    "name": "ipython",
    "version": 3
   },
   "file_extension": ".py",
   "mimetype": "text/x-python",
   "name": "python",
   "nbconvert_exporter": "python",
   "pygments_lexer": "ipython3",
   "version": "3.11.5"
  }
 },
 "nbformat": 4,
 "nbformat_minor": 2
}
